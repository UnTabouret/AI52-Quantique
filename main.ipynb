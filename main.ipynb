{
 "cells": [
  {
   "cell_type": "markdown",
   "metadata": {},
   "source": [
    "<h1>TP 4 AI52 : Algorithme généritque quantique</h1>\n"
   ]
  },
  {
   "cell_type": "markdown",
   "metadata": {},
   "source": [
    "<h2>Importations</h2>"
   ]
  },
  {
   "cell_type": "code",
   "execution_count": 2,
   "metadata": {},
   "outputs": [],
   "source": [
    "import numpy as np\n",
    "from copy import copy\n",
    "import time\n",
    "import matplotlib.pyplot as plt"
   ]
  },
  {
   "cell_type": "markdown",
   "metadata": {},
   "source": [
    "<h2>Définition du problème</h2>\n",
    "\n",
    "On définit la classe BackpackProblem, dont une instance représente une instance du problème générée aléatoirement avec les paramètres fournis."
   ]
  },
  {
   "cell_type": "code",
   "execution_count": 3,
   "metadata": {},
   "outputs": [],
   "source": [
    "class BackpackProblem():\n",
    "    def __init__(self,capacity,number_of_objects,min_weight,max_weight,min_value,max_value) -> None:\n",
    "        self.capacity = capacity\n",
    "        self.number_of_objects = number_of_objects\n",
    "        self.min_weight = min_weight\n",
    "        self.max_weight = max_weight\n",
    "        self.min_value = min_value\n",
    "        self.max_value = max_value\n",
    "\n",
    "        self.item_values = [0]*number_of_objects\n",
    "        self.item_weights = [0]*number_of_objects\n",
    "\n",
    "        self.generate()\n",
    "\n",
    "    def generate(self): #Génère les poids et valeurs des objets tels que la somme des poids est supérieure au triple de la capacité\n",
    "        while sum(self.item_weights) < 3*self.capacity:\n",
    "            for i in range(self.number_of_objects):\n",
    "                self.item_values[i] = np.random.randint(self.min_value,self.max_value)\n",
    "                self.item_weights[i] = np.random.randint(self.min_weight,self.max_weight)\n",
    "\n",
    "    def printProblem(self):\n",
    "        print(\"Liste des objets disponibles : \")\n",
    "        for i in range(self.number_of_objects):\n",
    "            print(\"Objet n°\",i,\", poids =\",self.item_weights[i],\", valeur =\",self.item_values[i])\n",
    "\n",
    "    def printSolution(self,solution):\n",
    "        if len(solution) != self.number_of_objects:\n",
    "            print(\"ERROR IN SOLUTION\")\n",
    "            exit(0)\n",
    "        print(\"Objets du sac à dos : \")\n",
    "        for i in range(self.number_of_objects):\n",
    "            if solution[i] == 1:\n",
    "                print(\"Objet n°\",i)\n",
    "\n",
    "        total_value = 0\n",
    "        total_weight = 0\n",
    "\n",
    "        for i in range(self.number_of_objects) :\n",
    "            total_value += solution[i]*self.item_values[i]\n",
    "            total_weight += solution[i]*self.item_weights[i]\n",
    "\n",
    "        print(\"Valeur totale : \",total_value)\n",
    "        print(\"Poids total : \",total_weight)\n",
    "        print(\"Fitness : \",self.fitness(solution))\n",
    "        \n",
    "\n",
    "    \n",
    "    def fitness(self,solution): #Calcule la fitness de la solution passée en paramètre sous la forme d'un tableau de booléens\n",
    "        if len(solution) != self.number_of_objects:\n",
    "            print(\"ERROR IN SOLUTION\")\n",
    "            exit(0)\n",
    "        total_value = 0\n",
    "        total_weight = 0\n",
    "\n",
    "        for i in range(self.number_of_objects) :\n",
    "            total_value += solution[i]*self.item_values[i]\n",
    "            total_weight += solution[i]*self.item_weights[i]\n",
    "\n",
    "        if total_weight <= self.capacity:\n",
    "            return total_value\n",
    "        \n",
    "        return self.capacity - total_weight\n",
    "    \n",
    "\n"
   ]
  },
  {
   "cell_type": "markdown",
   "metadata": {},
   "source": [
    "<h2>Algorithme génétique</h2>\n",
    "\n",
    "On programme maintenant une fonction implémentant un algorithme génétique classique sur le problème passé en paramètre"
   ]
  },
  {
   "cell_type": "code",
   "execution_count": 4,
   "metadata": {},
   "outputs": [],
   "source": [
    "\n",
    "def geneticAlgorithm(problem: BackpackProblem,population_size,generations):\n",
    "    population = []\n",
    "    for _ in range(population_size):\n",
    "        chromosome = []\n",
    "        for _ in range(problem.number_of_objects):\n",
    "            chromosome.append(np.random.randint(0,2))\n",
    "        population.append(chromosome)\n",
    "    \n",
    "    for _ in  range(generations):\n",
    "\n",
    "        for i in range(population_size):\n",
    "            population.append(mutate(population[i]))\n",
    "            population.append(uniformRandomCrossover(population[i],population[(i+1)%population_size]))\n",
    "        population.sort(key=lambda x: problem.fitness(x),reverse=True)\n",
    "\n",
    "        population = population[:population_size]\n",
    "    \n",
    "    return population[0]\n",
    "\n",
    "def mutate(chromosome):\n",
    "    child = copy(chromosome)\n",
    "    mutation_count = np.random.randint(1,4)\n",
    "    for _ in range(mutation_count):\n",
    "        mutation_target = np.random.randint(0,len(child))\n",
    "        child[mutation_target] = 1-child[mutation_target]\n",
    "    return child\n",
    "\n",
    "def uniformRandomCrossover(chr1,chr2):\n",
    "    return [np.random.choice(i) for i in zip(chr1,chr2)]"
   ]
  },
  {
   "cell_type": "markdown",
   "metadata": {},
   "source": [
    "<h2>Algorithme quantique</h2>\n",
    "\n",
    "On écrit tout d'abord une classe Qubit qui décrit le comportement des qubits :"
   ]
  },
  {
   "cell_type": "code",
   "execution_count": 5,
   "metadata": {},
   "outputs": [],
   "source": [
    "class Qubit():\n",
    "    def __init__(self,angle = np.pi/4) -> None:\n",
    "        self.alpha = np.cos(angle)\n",
    "        self.beta = np.sin(angle)\n",
    "\n",
    "    def collapse(self): # Retourne le résultat de l'observation du qubit\n",
    "        if np.random.random() < pow(self.alpha,2):\n",
    "            return 0\n",
    "        return 1\n",
    "    \n",
    "    def UGate(self,angle): # Retourne le résultat du passage du qubit dans une porte U dont l'angle correspond au paramètre d'entrée\n",
    "        new = copy(self)\n",
    "        newAlpha = self.alpha*np.cos(angle) + self.beta*np.sin(angle)\n",
    "        newBeta = -self.alpha*np.sin(angle) + self.beta*np.cos(angle)\n",
    "        new.alpha, new.beta = newAlpha,newBeta\n",
    "        return new\n",
    "      \n"
   ]
  },
  {
   "cell_type": "markdown",
   "metadata": {},
   "source": [
    "On écrit maintenant une fonction qui retourne un angle de rotation conformément à la politique décrite dans l'énoncé du TP :"
   ]
  },
  {
   "cell_type": "code",
   "execution_count": 6,
   "metadata": {},
   "outputs": [],
   "source": [
    "def rotationAngle(x: bool, b: bool, better_fitness: bool, signe_a: int, signe_b: int):\n",
    "    if not x and (not b or (b and not better_fitness)):\n",
    "        delta_y = 0\n",
    "        s = 0\n",
    "    elif b and (x != better_fitness):\n",
    "        delta_y = 0.05*np.pi\n",
    "        if signe_a*signe_b != 0:\n",
    "            if better_fitness:\n",
    "                s = signe_a*signe_b\n",
    "            else:\n",
    "                s = -signe_a*signe_b\n",
    "        else:\n",
    "            if better_fitness:\n",
    "                if signe_a == 0:\n",
    "                    s = signe_b\n",
    "                else:\n",
    "                    s = 0\n",
    "            else:\n",
    "                if signe_b == 0:\n",
    "                    s = signe_a\n",
    "                else:\n",
    "                    s = 0\n",
    "    elif x and better_fitness:\n",
    "        delta_y = 0.025*np.pi\n",
    "        if signe_a*signe_b != 0:\n",
    "            if b:\n",
    "                s = -signe_a*signe_b\n",
    "            else:\n",
    "                s = signe_a*signe_b\n",
    "        else:\n",
    "            if not b:\n",
    "                if signe_a == 0:\n",
    "                    s = signe_b\n",
    "                else:\n",
    "                    s = 0\n",
    "            else:\n",
    "                if signe_b == 0:\n",
    "                    s = signe_a\n",
    "                else:\n",
    "                    s = 0\n",
    "    else:\n",
    "        delta_y = 0.01*np.pi\n",
    "        if signe_a*signe_b != 0:\n",
    "            s = signe_a*signe_b\n",
    "        else:\n",
    "            if signe_b == 0:\n",
    "                    s = signe_a\n",
    "            else:\n",
    "                s = 0\n",
    "\n",
    "    return delta_y*s\n",
    "    \n",
    "\n",
    "     \n"
   ]
  },
  {
   "cell_type": "markdown",
   "metadata": {},
   "source": [
    "Enfin, on écrit la fonction qui implémente l'algorithme quantique tel que décrit dans l'énoncé :"
   ]
  },
  {
   "cell_type": "code",
   "execution_count": 7,
   "metadata": {},
   "outputs": [],
   "source": [
    "\n",
    "\n",
    "def quanticAlgorithm(problem : BackpackProblem, population_size = 10, generations = 10):\n",
    "    quantum_population = []\n",
    "    for _ in range(population_size):\n",
    "        quantum_chromosome = []\n",
    "        for _ in range(problem.number_of_objects):\n",
    "            quantum_chromosome.append(Qubit(np.pi/4))\n",
    "        quantum_population.append(quantum_chromosome)\n",
    "    \n",
    "    collapsed_population = []\n",
    "    for quantum_chromosome in quantum_population:\n",
    "        collapsed_chromosome = []\n",
    "        for qubit in quantum_chromosome:\n",
    "            collapsed_chromosome.append(qubit.collapse())\n",
    "        collapsed_population.append(collapsed_chromosome)\n",
    "    \n",
    "    collapsed_population.sort(key=lambda x: problem.fitness(x),reverse=True)\n",
    "\n",
    "    best = collapsed_population[0]\n",
    "\n",
    "    for t in range(generations) :\n",
    "        for j in range(population_size):\n",
    "            for i in range(problem.number_of_objects):\n",
    "                angle = rotationAngle(\n",
    "                    collapsed_population[j][i],\n",
    "                    best[i],\n",
    "                    problem.fitness(collapsed_population[j]) >= problem.fitness(best),\n",
    "                    np.sign(quantum_population[j][i].alpha),\n",
    "                    np.sign(quantum_population[j][i].beta)\n",
    "                )\n",
    "                quantum_population[j][i] = quantum_population[j][i].UGate(angle)\n",
    "        \n",
    "        collapsed_population = []\n",
    "        for quantum_chromosome in quantum_population:\n",
    "            collapsed_chromosome = []\n",
    "            for qubit in quantum_chromosome:\n",
    "                collapsed_chromosome.append(qubit.collapse())\n",
    "            collapsed_population.append(collapsed_chromosome)\n",
    "        \n",
    "        collapsed_population.sort(key=lambda x: problem.fitness(x),reverse=True)\n",
    "\n",
    "        best = collapsed_population[0]\n",
    "    \n",
    "    return best\n",
    "    "
   ]
  },
  {
   "cell_type": "markdown",
   "metadata": {},
   "source": [
    "<h2>Comparaison sur différentes instances :</h2>\n",
    "\n",
    "On écrit maintenant un script qui va générer plusieurs instances du problème en faisant varier le nombre d'objets, et qui va tester les performances de chaque algorithme pour différents nombres de générations sur chaque instance.\n",
    "\n",
    "On stocke dans resultats un dictionnaire des fitness et temps d'exécution de chaque algorithme pour chaque itération."
   ]
  },
  {
   "cell_type": "code",
   "execution_count": 10,
   "metadata": {},
   "outputs": [],
   "source": [
    "NOMBRE_INSTANCES_PROBLEME = 1\n",
    "CAPACITY = [30 for _ in range(NOMBRE_INSTANCES_PROBLEME)]\n",
    "OBJECT_COUNT = [17 for i in range(NOMBRE_INSTANCES_PROBLEME)]\n",
    "MIN_VALUE = [50 for _ in range(NOMBRE_INSTANCES_PROBLEME)]\n",
    "MAX_VALUE = [350 for _ in range(NOMBRE_INSTANCES_PROBLEME)]\n",
    "MIN_WEIGHT = [1 for _ in range(NOMBRE_INSTANCES_PROBLEME)]\n",
    "MAX_WEIGHT = [15 for _ in range(NOMBRE_INSTANCES_PROBLEME)]\n",
    "\n",
    "\n",
    "NOMBRE_INSTANCES_ALGORITHMES = 2\n",
    "GENETIC_POP_SIZE = [30 for _ in range(NOMBRE_INSTANCES_ALGORITHMES)]\n",
    "GENETIC_GENERATIONS = [2000 for i in range(NOMBRE_INSTANCES_ALGORITHMES)]\n",
    "\n",
    "QUANTUM_POP_SIZE = [30 for _ in range(NOMBRE_INSTANCES_ALGORITHMES)]\n",
    "QUANTUM_GENERATIONS = [2000 for i in range(NOMBRE_INSTANCES_ALGORITHMES)]\n",
    "\n",
    "\n",
    "resultats = []\n",
    "\n",
    "for i in range(NOMBRE_INSTANCES_PROBLEME):\n",
    "    elites = []\n",
    "    problem = BackpackProblem(CAPACITY[i],OBJECT_COUNT[i],MIN_WEIGHT[i],MAX_WEIGHT[i],MIN_VALUE[i],MAX_VALUE[i])\n",
    "    for j in range(NOMBRE_INSTANCES_ALGORITHMES):\n",
    "        start = time.time()\n",
    "        solution_genetique = geneticAlgorithm(problem,GENETIC_POP_SIZE[j],GENETIC_GENERATIONS[j])\n",
    "        genetic_end = time.time()\n",
    "        genetic_time = genetic_end-start\n",
    "        solution_quantique = quanticAlgorithm(problem,QUANTUM_POP_SIZE[j],QUANTUM_GENERATIONS[j])\n",
    "        quantic_time = time.time()-genetic_end\n",
    "        iteration_result = {\n",
    "            \"genetic_time\":genetic_time,\n",
    "            \"quantic_time\":quantic_time,\n",
    "            \"genetic_fitness\":problem.fitness(solution_genetique),\n",
    "            \"quantic_fitness\":problem.fitness(solution_quantique)\n",
    "        }\n",
    "        elites.append(iteration_result)\n",
    "    resultats.append(elites)\n",
    "\n",
    "    "
   ]
  },
  {
   "cell_type": "markdown",
   "metadata": {},
   "source": [
    "On trace enfin le temps d'exécution et la fitness en fonction du nombre de générations, et ce pour chaque instance du problème :"
   ]
  },
  {
   "cell_type": "code",
   "execution_count": 12,
   "metadata": {},
   "outputs": [
    {
     "name": "stdout",
     "output_type": "stream",
     "text": [
      "ITER  [{'genetic_time': 6.461596727371216, 'quantic_time': 10.955928564071655, 'genetic_fitness': 1430, 'quantic_fitness': -23}, {'genetic_time': 6.3519606590271, 'quantic_time': 11.245248556137085, 'genetic_fitness': 1430, 'quantic_fitness': -34}]\n"
     ]
    },
    {
     "data": {
      "image/png": "[encoded data removed]",
      "text/plain": [
       "<Figure size 640x480 with 1 Axes>"
      ]
     },
     "metadata": {},
     "output_type": "display_data"
    },
    {
     "data": {
      "image/png": "[encoded data removed]",
      "text/plain": [
       "<Figure size 640x480 with 1 Axes>"
      ]
     },
     "metadata": {},
     "output_type": "display_data"
    }
   ],
   "source": [
    "i = -1\n",
    "for iteration in resultats:\n",
    "    i+=1\n",
    "    print(\"ITER \",iteration)\n",
    "    fitness_quantique = [iter_result[\"quantic_fitness\"] for iter_result in iteration]\n",
    "    fitness_genetique = [iter_result[\"genetic_fitness\"] for iter_result in iteration]\n",
    "    temps_quantique = [iter_result[\"quantic_time\"] for iter_result in iteration]\n",
    "    temps_genetique = [iter_result[\"genetic_time\"] for iter_result in iteration]\n",
    "    plt.figure()\n",
    "    title = \"Temps d'exécution pour \"+str(OBJECT_COUNT[i])+\" objets\"\n",
    "    plt.title(title)\n",
    "    plt.xlabel(\"Nombre de générations\")\n",
    "    plt.ylabel(\"Temps d'éxécution (s)\")\n",
    "    plt.plot(GENETIC_GENERATIONS,temps_genetique,label=\"Genetique\")\n",
    "    plt.plot(GENETIC_GENERATIONS,temps_quantique,label=\"Quantique\")\n",
    "    plt.legend()\n",
    "\n",
    "    plt.figure()\n",
    "    title = \"Fitness pour \"+str(OBJECT_COUNT[i])+\" objets\"\n",
    "    plt.title(title)\n",
    "    plt.xlabel(\"Nombre de générations\")\n",
    "    plt.ylabel(\"Fitness\")\n",
    "    plt.plot(GENETIC_GENERATIONS,fitness_genetique,label=\"Genetique\")\n",
    "    plt.plot(GENETIC_GENERATIONS,fitness_quantique,label=\"Quantique\")\n",
    "    plt.legend()\n"
   ]
  },
  {
   "cell_type": "markdown",
   "metadata": {},
   "source": [
    "On constate que l'algorithme génétique est légèrement plus rapide que l'algorithme quantique, et qu'il atteint des solutions à la fois bien meilleures et bien plus stables que celles de l'algorithme quantique"
   ]
  }
 ],
 "metadata": {
  "kernelspec": {
   "display_name": "Python 3",
   "language": "python",
   "name": "python3"
  },
  "language_info": {
   "codemirror_mode": {
    "name": "ipython",
    "version": 3
   },
   "file_extension": ".py",
   "mimetype": "text/x-python",
   "name": "python",
   "nbconvert_exporter": "python",
   "pygments_lexer": "ipython3",
   "version": "3.9.13"
  }
 },
 "nbformat": 4,
 "nbformat_minor": 2
}
